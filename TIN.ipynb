{
 "cells": [
  {
   "cell_type": "code",
   "execution_count": 20,
   "metadata": {
    "collapsed": false,
    "nbpresent": {
     "id": "4ef13624-9896-4232-9512-feb98e9c523d"
    },
    "slideshow": {
     "slide_type": "slide"
    }
   },
   "outputs": [],
   "source": [
    "import pandas as pd\n",
    "import numpy as np\n",
    "import scipy as sp\n",
    "import sklearn as sk\n",
    "import cPickle as pkl\n",
    "import datetime\n",
    "REF=datetime.datetime.now().strftime (\"%Y%m%d\")\n",
    "from sklearn.feature_extraction.text import TfidfVectorizer\n",
    "pd.set_option('display.max_rows', 500)\n",
    "pd.set_option('display.max_columns', 500)\n",
    "pd.set_option('display.width', 1000)\n",
    "pd.set_option('display.max_colwidth', 1000)\n",
    "import matplotlib\n",
    "import xgboost\n",
    "from xgboost import XGBClassifier\n",
    "from sklearn.model_selection import train_test_split\n",
    "from sklearn.metrics import accuracy_score"
   ]
  },
  {
   "cell_type": "markdown",
   "metadata": {
    "nbpresent": {
     "id": "47d936c0-449e-4127-af0e-d406d1765f21"
    },
    "slideshow": {
     "slide_type": "slide"
    }
   },
   "source": [
    "# Read input file"
   ]
  },
  {
   "cell_type": "code",
   "execution_count": 20,
   "metadata": {
    "collapsed": false,
    "nbpresent": {
     "id": "9e6f401d-cfdc-4c0c-9a45-912ccefca87c"
    },
    "slideshow": {
     "slide_type": "fragment"
    }
   },
   "outputs": [
    {
     "data": {
      "text/html": [
       "<div>\n",
       "<table border=\"1\" class=\"dataframe\">\n",
       "  <thead>\n",
       "    <tr style=\"text-align: right;\">\n",
       "      <th></th>\n",
       "      <th>member_id</th>\n",
       "      <th>loan_amnt</th>\n",
       "      <th>funded_amnt</th>\n",
       "      <th>funded_amnt_inv</th>\n",
       "      <th>int_rate</th>\n",
       "      <th>annual_inc</th>\n",
       "      <th>dti</th>\n",
       "      <th>delinq_2yrs</th>\n",
       "      <th>inq_last_6mths</th>\n",
       "      <th>mths_since_last_delinq</th>\n",
       "      <th>mths_since_last_record</th>\n",
       "      <th>open_acc</th>\n",
       "      <th>pub_rec</th>\n",
       "      <th>revol_bal</th>\n",
       "      <th>revol_util</th>\n",
       "      <th>total_acc</th>\n",
       "      <th>total_rec_int</th>\n",
       "      <th>total_rec_late_fee</th>\n",
       "      <th>recoveries</th>\n",
       "      <th>collection_recovery_fee</th>\n",
       "      <th>collections_12_mths_ex_med</th>\n",
       "      <th>mths_since_last_major_derog</th>\n",
       "      <th>acc_now_delinq</th>\n",
       "      <th>tot_coll_amt</th>\n",
       "      <th>tot_cur_bal</th>\n",
       "      <th>total_rev_hi_lim</th>\n",
       "      <th>loan_status</th>\n",
       "    </tr>\n",
       "  </thead>\n",
       "  <tbody>\n",
       "    <tr>\n",
       "      <th>count</th>\n",
       "      <td>5.324280e+05</td>\n",
       "      <td>532428.000000</td>\n",
       "      <td>532428.000000</td>\n",
       "      <td>532428.000000</td>\n",
       "      <td>532428.000000</td>\n",
       "      <td>5.324250e+05</td>\n",
       "      <td>532428.000000</td>\n",
       "      <td>532412.000000</td>\n",
       "      <td>532412.000000</td>\n",
       "      <td>259874.000000</td>\n",
       "      <td>82123.000000</td>\n",
       "      <td>532412.000000</td>\n",
       "      <td>532412.000000</td>\n",
       "      <td>5.324280e+05</td>\n",
       "      <td>532141.000000</td>\n",
       "      <td>532412.000000</td>\n",
       "      <td>532428.000000</td>\n",
       "      <td>532428.000000</td>\n",
       "      <td>532428.000000</td>\n",
       "      <td>532428.000000</td>\n",
       "      <td>532333.000000</td>\n",
       "      <td>132980.000000</td>\n",
       "      <td>532412.000000</td>\n",
       "      <td>490424.000000</td>\n",
       "      <td>4.904240e+05</td>\n",
       "      <td>4.904240e+05</td>\n",
       "      <td>532428.000000</td>\n",
       "    </tr>\n",
       "    <tr>\n",
       "      <th>mean</th>\n",
       "      <td>3.500547e+07</td>\n",
       "      <td>14757.595722</td>\n",
       "      <td>14744.271291</td>\n",
       "      <td>14704.926696</td>\n",
       "      <td>13.242969</td>\n",
       "      <td>7.502984e+04</td>\n",
       "      <td>18.138767</td>\n",
       "      <td>0.314448</td>\n",
       "      <td>0.694603</td>\n",
       "      <td>34.055735</td>\n",
       "      <td>70.093068</td>\n",
       "      <td>11.545594</td>\n",
       "      <td>0.194858</td>\n",
       "      <td>1.692128e+04</td>\n",
       "      <td>55.057189</td>\n",
       "      <td>25.267357</td>\n",
       "      <td>1753.428788</td>\n",
       "      <td>0.394954</td>\n",
       "      <td>45.717832</td>\n",
       "      <td>4.859221</td>\n",
       "      <td>0.014299</td>\n",
       "      <td>44.121462</td>\n",
       "      <td>0.005015</td>\n",
       "      <td>213.562222</td>\n",
       "      <td>1.395541e+05</td>\n",
       "      <td>3.208057e+04</td>\n",
       "      <td>0.236327</td>\n",
       "    </tr>\n",
       "    <tr>\n",
       "      <th>std</th>\n",
       "      <td>2.412148e+07</td>\n",
       "      <td>8434.420080</td>\n",
       "      <td>8429.139277</td>\n",
       "      <td>8441.290381</td>\n",
       "      <td>4.379611</td>\n",
       "      <td>6.519985e+04</td>\n",
       "      <td>8.369074</td>\n",
       "      <td>0.860045</td>\n",
       "      <td>0.997025</td>\n",
       "      <td>21.884797</td>\n",
       "      <td>28.139219</td>\n",
       "      <td>5.311442</td>\n",
       "      <td>0.583822</td>\n",
       "      <td>2.242322e+04</td>\n",
       "      <td>23.853436</td>\n",
       "      <td>11.843211</td>\n",
       "      <td>2093.199837</td>\n",
       "      <td>4.091546</td>\n",
       "      <td>409.647467</td>\n",
       "      <td>63.123361</td>\n",
       "      <td>0.133005</td>\n",
       "      <td>22.198410</td>\n",
       "      <td>0.079117</td>\n",
       "      <td>1958.571538</td>\n",
       "      <td>1.539149e+05</td>\n",
       "      <td>3.805304e+04</td>\n",
       "      <td>0.424826</td>\n",
       "    </tr>\n",
       "    <tr>\n",
       "      <th>min</th>\n",
       "      <td>7.047300e+04</td>\n",
       "      <td>500.000000</td>\n",
       "      <td>500.000000</td>\n",
       "      <td>0.000000</td>\n",
       "      <td>5.320000</td>\n",
       "      <td>1.200000e+03</td>\n",
       "      <td>0.000000</td>\n",
       "      <td>0.000000</td>\n",
       "      <td>0.000000</td>\n",
       "      <td>0.000000</td>\n",
       "      <td>0.000000</td>\n",
       "      <td>0.000000</td>\n",
       "      <td>0.000000</td>\n",
       "      <td>0.000000e+00</td>\n",
       "      <td>0.000000</td>\n",
       "      <td>1.000000</td>\n",
       "      <td>0.000000</td>\n",
       "      <td>0.000000</td>\n",
       "      <td>0.000000</td>\n",
       "      <td>0.000000</td>\n",
       "      <td>0.000000</td>\n",
       "      <td>0.000000</td>\n",
       "      <td>0.000000</td>\n",
       "      <td>0.000000</td>\n",
       "      <td>0.000000e+00</td>\n",
       "      <td>0.000000e+00</td>\n",
       "      <td>0.000000</td>\n",
       "    </tr>\n",
       "    <tr>\n",
       "      <th>25%</th>\n",
       "      <td>1.086688e+07</td>\n",
       "      <td>8000.000000</td>\n",
       "      <td>8000.000000</td>\n",
       "      <td>8000.000000</td>\n",
       "      <td>9.990000</td>\n",
       "      <td>4.500000e+04</td>\n",
       "      <td>11.930000</td>\n",
       "      <td>0.000000</td>\n",
       "      <td>0.000000</td>\n",
       "      <td>15.000000</td>\n",
       "      <td>51.000000</td>\n",
       "      <td>8.000000</td>\n",
       "      <td>0.000000</td>\n",
       "      <td>6.444000e+03</td>\n",
       "      <td>37.700000</td>\n",
       "      <td>17.000000</td>\n",
       "      <td>441.600000</td>\n",
       "      <td>0.000000</td>\n",
       "      <td>0.000000</td>\n",
       "      <td>0.000000</td>\n",
       "      <td>0.000000</td>\n",
       "      <td>27.000000</td>\n",
       "      <td>0.000000</td>\n",
       "      <td>0.000000</td>\n",
       "      <td>2.983975e+04</td>\n",
       "      <td>1.400000e+04</td>\n",
       "      <td>0.000000</td>\n",
       "    </tr>\n",
       "    <tr>\n",
       "      <th>50%</th>\n",
       "      <td>3.709590e+07</td>\n",
       "      <td>13000.000000</td>\n",
       "      <td>13000.000000</td>\n",
       "      <td>13000.000000</td>\n",
       "      <td>12.990000</td>\n",
       "      <td>6.500000e+04</td>\n",
       "      <td>17.650000</td>\n",
       "      <td>0.000000</td>\n",
       "      <td>0.000000</td>\n",
       "      <td>31.000000</td>\n",
       "      <td>70.000000</td>\n",
       "      <td>11.000000</td>\n",
       "      <td>0.000000</td>\n",
       "      <td>1.187600e+04</td>\n",
       "      <td>56.000000</td>\n",
       "      <td>24.000000</td>\n",
       "      <td>1072.690000</td>\n",
       "      <td>0.000000</td>\n",
       "      <td>0.000000</td>\n",
       "      <td>0.000000</td>\n",
       "      <td>0.000000</td>\n",
       "      <td>44.000000</td>\n",
       "      <td>0.000000</td>\n",
       "      <td>0.000000</td>\n",
       "      <td>8.066950e+04</td>\n",
       "      <td>2.370000e+04</td>\n",
       "      <td>0.000000</td>\n",
       "    </tr>\n",
       "    <tr>\n",
       "      <th>75%</th>\n",
       "      <td>5.848920e+07</td>\n",
       "      <td>20000.000000</td>\n",
       "      <td>20000.000000</td>\n",
       "      <td>20000.000000</td>\n",
       "      <td>16.200000</td>\n",
       "      <td>9.000000e+04</td>\n",
       "      <td>23.950000</td>\n",
       "      <td>0.000000</td>\n",
       "      <td>1.000000</td>\n",
       "      <td>50.000000</td>\n",
       "      <td>92.000000</td>\n",
       "      <td>14.000000</td>\n",
       "      <td>0.000000</td>\n",
       "      <td>2.084300e+04</td>\n",
       "      <td>73.600000</td>\n",
       "      <td>32.000000</td>\n",
       "      <td>2234.735000</td>\n",
       "      <td>0.000000</td>\n",
       "      <td>0.000000</td>\n",
       "      <td>0.000000</td>\n",
       "      <td>0.000000</td>\n",
       "      <td>61.000000</td>\n",
       "      <td>0.000000</td>\n",
       "      <td>0.000000</td>\n",
       "      <td>2.084792e+05</td>\n",
       "      <td>3.980000e+04</td>\n",
       "      <td>0.000000</td>\n",
       "    </tr>\n",
       "    <tr>\n",
       "      <th>max</th>\n",
       "      <td>7.354484e+07</td>\n",
       "      <td>35000.000000</td>\n",
       "      <td>35000.000000</td>\n",
       "      <td>35000.000000</td>\n",
       "      <td>28.990000</td>\n",
       "      <td>9.500000e+06</td>\n",
       "      <td>672.520000</td>\n",
       "      <td>30.000000</td>\n",
       "      <td>31.000000</td>\n",
       "      <td>180.000000</td>\n",
       "      <td>121.000000</td>\n",
       "      <td>90.000000</td>\n",
       "      <td>86.000000</td>\n",
       "      <td>2.568995e+06</td>\n",
       "      <td>892.300000</td>\n",
       "      <td>162.000000</td>\n",
       "      <td>24205.620000</td>\n",
       "      <td>358.680000</td>\n",
       "      <td>33520.270000</td>\n",
       "      <td>7002.190000</td>\n",
       "      <td>16.000000</td>\n",
       "      <td>180.000000</td>\n",
       "      <td>14.000000</td>\n",
       "      <td>496651.000000</td>\n",
       "      <td>8.000078e+06</td>\n",
       "      <td>9.999999e+06</td>\n",
       "      <td>1.000000</td>\n",
       "    </tr>\n",
       "  </tbody>\n",
       "</table>\n",
       "</div>"
      ],
      "text/plain": [
       "          member_id      loan_amnt    funded_amnt  funded_amnt_inv       int_rate    annual_inc            dti    delinq_2yrs  inq_last_6mths  mths_since_last_delinq  mths_since_last_record       open_acc        pub_rec     revol_bal     revol_util      total_acc  total_rec_int  total_rec_late_fee     recoveries  collection_recovery_fee  collections_12_mths_ex_med  mths_since_last_major_derog  acc_now_delinq   tot_coll_amt   tot_cur_bal  total_rev_hi_lim    loan_status\n",
       "count  5.324280e+05  532428.000000  532428.000000    532428.000000  532428.000000  5.324250e+05  532428.000000  532412.000000   532412.000000           259874.000000            82123.000000  532412.000000  532412.000000  5.324280e+05  532141.000000  532412.000000  532428.000000       532428.000000  532428.000000            532428.000000               532333.000000                132980.000000   532412.000000  490424.000000  4.904240e+05      4.904240e+05  532428.000000\n",
       "mean   3.500547e+07   14757.595722   14744.271291     14704.926696      13.242969  7.502984e+04      18.138767       0.314448        0.694603               34.055735               70.093068      11.545594       0.194858  1.692128e+04      55.057189      25.267357    1753.428788            0.394954      45.717832                 4.859221                    0.014299                    44.121462        0.005015     213.562222  1.395541e+05      3.208057e+04       0.236327\n",
       "std    2.412148e+07    8434.420080    8429.139277      8441.290381       4.379611  6.519985e+04       8.369074       0.860045        0.997025               21.884797               28.139219       5.311442       0.583822  2.242322e+04      23.853436      11.843211    2093.199837            4.091546     409.647467                63.123361                    0.133005                    22.198410        0.079117    1958.571538  1.539149e+05      3.805304e+04       0.424826\n",
       "min    7.047300e+04     500.000000     500.000000         0.000000       5.320000  1.200000e+03       0.000000       0.000000        0.000000                0.000000                0.000000       0.000000       0.000000  0.000000e+00       0.000000       1.000000       0.000000            0.000000       0.000000                 0.000000                    0.000000                     0.000000        0.000000       0.000000  0.000000e+00      0.000000e+00       0.000000\n",
       "25%    1.086688e+07    8000.000000    8000.000000      8000.000000       9.990000  4.500000e+04      11.930000       0.000000        0.000000               15.000000               51.000000       8.000000       0.000000  6.444000e+03      37.700000      17.000000     441.600000            0.000000       0.000000                 0.000000                    0.000000                    27.000000        0.000000       0.000000  2.983975e+04      1.400000e+04       0.000000\n",
       "50%    3.709590e+07   13000.000000   13000.000000     13000.000000      12.990000  6.500000e+04      17.650000       0.000000        0.000000               31.000000               70.000000      11.000000       0.000000  1.187600e+04      56.000000      24.000000    1072.690000            0.000000       0.000000                 0.000000                    0.000000                    44.000000        0.000000       0.000000  8.066950e+04      2.370000e+04       0.000000\n",
       "75%    5.848920e+07   20000.000000   20000.000000     20000.000000      16.200000  9.000000e+04      23.950000       0.000000        1.000000               50.000000               92.000000      14.000000       0.000000  2.084300e+04      73.600000      32.000000    2234.735000            0.000000       0.000000                 0.000000                    0.000000                    61.000000        0.000000       0.000000  2.084792e+05      3.980000e+04       0.000000\n",
       "max    7.354484e+07   35000.000000   35000.000000     35000.000000      28.990000  9.500000e+06     672.520000      30.000000       31.000000              180.000000              121.000000      90.000000      86.000000  2.568995e+06     892.300000     162.000000   24205.620000          358.680000   33520.270000              7002.190000                   16.000000                   180.000000       14.000000  496651.000000  8.000078e+06      9.999999e+06       1.000000"
      ]
     },
     "execution_count": 20,
     "metadata": {},
     "output_type": "execute_result"
    }
   ],
   "source": [
    "inp_file= pd.read_csv(\"./train_indessa.csv\")\n",
    "inp_file.columns\n",
    "inp_file.describe()\n",
    "\n"
   ]
  },
  {
   "cell_type": "markdown",
   "metadata": {
    "collapsed": true,
    "nbpresent": {
     "id": "69f2b61d-b44c-47d7-b034-e0ddc967efb3"
    },
    "slideshow": {
     "slide_type": "slide"
    }
   },
   "source": [
    "# Preprocess"
   ]
  },
  {
   "cell_type": "code",
   "execution_count": 21,
   "metadata": {
    "collapsed": true,
    "nbpresent": {
     "id": "5ecd0ea4-b684-441d-b079-98ed094951cb"
    },
    "slideshow": {
     "slide_type": "subslide"
    }
   },
   "outputs": [],
   "source": [
    "text_cols= ['title', 'desc' ]\n",
    "hidden_numeric=['term','emp_length','zip_code','last_week_pay']\n",
    "categorical=['batch_enrolled','grade','sub_grade','emp_title','home_ownership','verification_status','pymnt_plan','purpose','addr_state','initial_list_status','application_type']"
   ]
  },
  {
   "cell_type": "markdown",
   "metadata": {
    "collapsed": true,
    "slideshow": {
     "slide_type": "slide"
    }
   },
   "source": [
    "# Cleanup"
   ]
  },
  {
   "cell_type": "code",
   "execution_count": 23,
   "metadata": {
    "collapsed": false,
    "nbpresent": {
     "id": "35d0f830-4076-452e-9af8-efad32c8edd4"
    },
    "slideshow": {
     "slide_type": "subslide"
    }
   },
   "outputs": [],
   "source": [
    "\n",
    "inp_file_bak=inp_file\n",
    "inp_file[categorical]=inp_file[categorical].replace('', np.nan, regex=True)\n",
    "inp_file[categorical]=inp_file[categorical].replace(' ', np.nan, regex=True)\n",
    "for column in categorical:\n",
    "    inp_file[column].fillna(inp_file[column].mode()[0], inplace=True)\n",
    "\n"
   ]
  },
  {
   "cell_type": "code",
   "execution_count": 24,
   "metadata": {
    "collapsed": true,
    "nbpresent": {
     "id": "b9b2256b-8932-45ab-a7e6-6ab0dc067ed6"
    },
    "slideshow": {
     "slide_type": "skip"
    }
   },
   "outputs": [],
   "source": [
    "cat_pickle='categorical_processed_'+ REF + '.pkl'\n",
    "inp_file.to_pickle(cat_pickle)"
   ]
  },
  {
   "cell_type": "code",
   "execution_count": 18,
   "metadata": {
    "collapsed": false,
    "nbpresent": {
     "id": "0c09d484-74b9-4ecd-a3cc-85f40f38ee34"
    },
    "scrolled": true,
    "slideshow": {
     "slide_type": "skip"
    }
   },
   "outputs": [],
   "source": [
    "inp_file= pd.read_pickle(\"./categorical_processed.pkl\")"
   ]
  },
  {
   "cell_type": "markdown",
   "metadata": {
    "collapsed": true,
    "slideshow": {
     "slide_type": "slide"
    }
   },
   "source": [
    "# 1-hot encoded from Categorical"
   ]
  },
  {
   "cell_type": "code",
   "execution_count": 4,
   "metadata": {
    "collapsed": true,
    "nbpresent": {
     "id": "659a38e4-3f21-44d2-a38b-0cb50a58b41d"
    },
    "slideshow": {
     "slide_type": "subslide"
    }
   },
   "outputs": [
    {
     "data": {
      "text/html": [
       "<div>\n",
       "<table border=\"1\" class=\"dataframe\">\n",
       "  <thead>\n",
       "    <tr style=\"text-align: right;\">\n",
       "      <th></th>\n",
       "      <th>member_id</th>\n",
       "      <th>loan_amnt</th>\n",
       "      <th>funded_amnt</th>\n",
       "      <th>funded_amnt_inv</th>\n",
       "      <th>term</th>\n",
       "      <th>batch_enrolled</th>\n",
       "      <th>int_rate</th>\n",
       "      <th>grade</th>\n",
       "      <th>sub_grade</th>\n",
       "      <th>emp_title</th>\n",
       "      <th>emp_length</th>\n",
       "      <th>home_ownership</th>\n",
       "      <th>annual_inc</th>\n",
       "      <th>verification_status</th>\n",
       "      <th>pymnt_plan</th>\n",
       "      <th>desc</th>\n",
       "      <th>purpose</th>\n",
       "      <th>title</th>\n",
       "      <th>zip_code</th>\n",
       "      <th>addr_state</th>\n",
       "      <th>dti</th>\n",
       "      <th>delinq_2yrs</th>\n",
       "      <th>inq_last_6mths</th>\n",
       "      <th>mths_since_last_delinq</th>\n",
       "      <th>mths_since_last_record</th>\n",
       "      <th>open_acc</th>\n",
       "      <th>pub_rec</th>\n",
       "      <th>revol_bal</th>\n",
       "      <th>revol_util</th>\n",
       "      <th>total_acc</th>\n",
       "      <th>initial_list_status</th>\n",
       "      <th>total_rec_int</th>\n",
       "      <th>total_rec_late_fee</th>\n",
       "      <th>recoveries</th>\n",
       "      <th>collection_recovery_fee</th>\n",
       "      <th>collections_12_mths_ex_med</th>\n",
       "      <th>mths_since_last_major_derog</th>\n",
       "      <th>application_type</th>\n",
       "      <th>verification_status_joint</th>\n",
       "      <th>last_week_pay</th>\n",
       "      <th>acc_now_delinq</th>\n",
       "      <th>tot_coll_amt</th>\n",
       "      <th>tot_cur_bal</th>\n",
       "      <th>total_rev_hi_lim</th>\n",
       "      <th>loan_status</th>\n",
       "    </tr>\n",
       "  </thead>\n",
       "  <tbody>\n",
       "    <tr>\n",
       "      <th>0</th>\n",
       "      <td>58189336</td>\n",
       "      <td>14350</td>\n",
       "      <td>14350</td>\n",
       "      <td>14350.0</td>\n",
       "      <td>36 months</td>\n",
       "      <td>BAT2252229</td>\n",
       "      <td>19.19</td>\n",
       "      <td>E</td>\n",
       "      <td>E3</td>\n",
       "      <td>clerk</td>\n",
       "      <td>9 years</td>\n",
       "      <td>OWN</td>\n",
       "      <td>28700.0</td>\n",
       "      <td>Verified</td>\n",
       "      <td>n</td>\n",
       "      <td>NaN</td>\n",
       "      <td>debt_consolidation</td>\n",
       "      <td>Debt consolidation</td>\n",
       "      <td>349xx</td>\n",
       "      <td>FL</td>\n",
       "      <td>33.88</td>\n",
       "      <td>0.0</td>\n",
       "      <td>1.0</td>\n",
       "      <td>50.0</td>\n",
       "      <td>75.0</td>\n",
       "      <td>14.0</td>\n",
       "      <td>1.0</td>\n",
       "      <td>22515.0</td>\n",
       "      <td>73.1</td>\n",
       "      <td>28.0</td>\n",
       "      <td>f</td>\n",
       "      <td>1173.84</td>\n",
       "      <td>0.0</td>\n",
       "      <td>0.0</td>\n",
       "      <td>0.0</td>\n",
       "      <td>0.0</td>\n",
       "      <td>74.0</td>\n",
       "      <td>INDIVIDUAL</td>\n",
       "      <td>NaN</td>\n",
       "      <td>26th week</td>\n",
       "      <td>0.0</td>\n",
       "      <td>0.0</td>\n",
       "      <td>28699.0</td>\n",
       "      <td>30800.0</td>\n",
       "      <td>0</td>\n",
       "    </tr>\n",
       "    <tr>\n",
       "      <th>1</th>\n",
       "      <td>70011223</td>\n",
       "      <td>4800</td>\n",
       "      <td>4800</td>\n",
       "      <td>4800.0</td>\n",
       "      <td>36 months</td>\n",
       "      <td>BAT1586599</td>\n",
       "      <td>10.99</td>\n",
       "      <td>B</td>\n",
       "      <td>B4</td>\n",
       "      <td>Teacher</td>\n",
       "      <td>&lt; 1 year</td>\n",
       "      <td>MORTGAGE</td>\n",
       "      <td>65000.0</td>\n",
       "      <td>Verified</td>\n",
       "      <td>n</td>\n",
       "      <td>NaN</td>\n",
       "      <td>home_improvement</td>\n",
       "      <td>Home improvement</td>\n",
       "      <td>209xx</td>\n",
       "      <td>MD</td>\n",
       "      <td>3.64</td>\n",
       "      <td>0.0</td>\n",
       "      <td>1.0</td>\n",
       "      <td>NaN</td>\n",
       "      <td>NaN</td>\n",
       "      <td>6.0</td>\n",
       "      <td>0.0</td>\n",
       "      <td>7624.0</td>\n",
       "      <td>23.2</td>\n",
       "      <td>13.0</td>\n",
       "      <td>w</td>\n",
       "      <td>83.95</td>\n",
       "      <td>0.0</td>\n",
       "      <td>0.0</td>\n",
       "      <td>0.0</td>\n",
       "      <td>0.0</td>\n",
       "      <td>NaN</td>\n",
       "      <td>INDIVIDUAL</td>\n",
       "      <td>NaN</td>\n",
       "      <td>9th week</td>\n",
       "      <td>0.0</td>\n",
       "      <td>0.0</td>\n",
       "      <td>9974.0</td>\n",
       "      <td>32900.0</td>\n",
       "      <td>0</td>\n",
       "    </tr>\n",
       "    <tr>\n",
       "      <th>2</th>\n",
       "      <td>70255675</td>\n",
       "      <td>10000</td>\n",
       "      <td>10000</td>\n",
       "      <td>10000.0</td>\n",
       "      <td>36 months</td>\n",
       "      <td>BAT1586599</td>\n",
       "      <td>7.26</td>\n",
       "      <td>A</td>\n",
       "      <td>A4</td>\n",
       "      <td>Driver</td>\n",
       "      <td>2 years</td>\n",
       "      <td>OWN</td>\n",
       "      <td>45000.0</td>\n",
       "      <td>Verified</td>\n",
       "      <td>n</td>\n",
       "      <td>NaN</td>\n",
       "      <td>debt_consolidation</td>\n",
       "      <td>Debt consolidation</td>\n",
       "      <td>447xx</td>\n",
       "      <td>OH</td>\n",
       "      <td>18.42</td>\n",
       "      <td>0.0</td>\n",
       "      <td>0.0</td>\n",
       "      <td>NaN</td>\n",
       "      <td>NaN</td>\n",
       "      <td>5.0</td>\n",
       "      <td>0.0</td>\n",
       "      <td>10877.0</td>\n",
       "      <td>31.2</td>\n",
       "      <td>19.0</td>\n",
       "      <td>w</td>\n",
       "      <td>56.47</td>\n",
       "      <td>0.0</td>\n",
       "      <td>0.0</td>\n",
       "      <td>0.0</td>\n",
       "      <td>0.0</td>\n",
       "      <td>NaN</td>\n",
       "      <td>INDIVIDUAL</td>\n",
       "      <td>NaN</td>\n",
       "      <td>9th week</td>\n",
       "      <td>0.0</td>\n",
       "      <td>65.0</td>\n",
       "      <td>38295.0</td>\n",
       "      <td>34900.0</td>\n",
       "      <td>0</td>\n",
       "    </tr>\n",
       "    <tr>\n",
       "      <th>3</th>\n",
       "      <td>1893936</td>\n",
       "      <td>15000</td>\n",
       "      <td>15000</td>\n",
       "      <td>15000.0</td>\n",
       "      <td>36 months</td>\n",
       "      <td>BAT4808022</td>\n",
       "      <td>19.72</td>\n",
       "      <td>D</td>\n",
       "      <td>D5</td>\n",
       "      <td>Teacher</td>\n",
       "      <td>10+ years</td>\n",
       "      <td>RENT</td>\n",
       "      <td>105000.0</td>\n",
       "      <td>Verified</td>\n",
       "      <td>n</td>\n",
       "      <td>&gt; My goal is to obtain a loan to pay off my high credit cards and get out of debt within 3 years.&lt;br&gt;</td>\n",
       "      <td>debt_consolidation</td>\n",
       "      <td>Debt consolidation</td>\n",
       "      <td>221xx</td>\n",
       "      <td>VA</td>\n",
       "      <td>14.97</td>\n",
       "      <td>0.0</td>\n",
       "      <td>2.0</td>\n",
       "      <td>46.0</td>\n",
       "      <td>NaN</td>\n",
       "      <td>10.0</td>\n",
       "      <td>0.0</td>\n",
       "      <td>13712.0</td>\n",
       "      <td>55.5</td>\n",
       "      <td>21.0</td>\n",
       "      <td>f</td>\n",
       "      <td>4858.62</td>\n",
       "      <td>0.0</td>\n",
       "      <td>0.0</td>\n",
       "      <td>0.0</td>\n",
       "      <td>0.0</td>\n",
       "      <td>NaN</td>\n",
       "      <td>INDIVIDUAL</td>\n",
       "      <td>NaN</td>\n",
       "      <td>135th week</td>\n",
       "      <td>0.0</td>\n",
       "      <td>0.0</td>\n",
       "      <td>55564.0</td>\n",
       "      <td>24700.0</td>\n",
       "      <td>0</td>\n",
       "    </tr>\n",
       "    <tr>\n",
       "      <th>4</th>\n",
       "      <td>7652106</td>\n",
       "      <td>16000</td>\n",
       "      <td>16000</td>\n",
       "      <td>16000.0</td>\n",
       "      <td>36 months</td>\n",
       "      <td>BAT2833642</td>\n",
       "      <td>10.64</td>\n",
       "      <td>B</td>\n",
       "      <td>B2</td>\n",
       "      <td>Teacher</td>\n",
       "      <td>10+ years</td>\n",
       "      <td>RENT</td>\n",
       "      <td>52000.0</td>\n",
       "      <td>Verified</td>\n",
       "      <td>n</td>\n",
       "      <td>NaN</td>\n",
       "      <td>credit_card</td>\n",
       "      <td>refi</td>\n",
       "      <td>900xx</td>\n",
       "      <td>CA</td>\n",
       "      <td>20.16</td>\n",
       "      <td>0.0</td>\n",
       "      <td>0.0</td>\n",
       "      <td>NaN</td>\n",
       "      <td>NaN</td>\n",
       "      <td>11.0</td>\n",
       "      <td>0.0</td>\n",
       "      <td>35835.0</td>\n",
       "      <td>76.2</td>\n",
       "      <td>27.0</td>\n",
       "      <td>w</td>\n",
       "      <td>2296.41</td>\n",
       "      <td>0.0</td>\n",
       "      <td>0.0</td>\n",
       "      <td>0.0</td>\n",
       "      <td>0.0</td>\n",
       "      <td>NaN</td>\n",
       "      <td>INDIVIDUAL</td>\n",
       "      <td>NaN</td>\n",
       "      <td>96th week</td>\n",
       "      <td>0.0</td>\n",
       "      <td>0.0</td>\n",
       "      <td>47159.0</td>\n",
       "      <td>47033.0</td>\n",
       "      <td>0</td>\n",
       "    </tr>\n",
       "    <tr>\n",
       "      <th>5</th>\n",
       "      <td>10247268</td>\n",
       "      <td>15000</td>\n",
       "      <td>15000</td>\n",
       "      <td>14950.0</td>\n",
       "      <td>36 months</td>\n",
       "      <td>BAT2575549</td>\n",
       "      <td>8.90</td>\n",
       "      <td>A</td>\n",
       "      <td>A5</td>\n",
       "      <td>Teacher</td>\n",
       "      <td>2 years</td>\n",
       "      <td>MORTGAGE</td>\n",
       "      <td>120000.0</td>\n",
       "      <td>Verified</td>\n",
       "      <td>n</td>\n",
       "      <td>&gt; We are requesting this loan to help re-organize our finances after having a tumultuous year that resulted in unexpected medical bills.  I have been in the same line of work for over five years and have been at my current company, which is very stable in the marketplace, for two and a half years.&lt;br&gt;</td>\n",
       "      <td>debt_consolidation</td>\n",
       "      <td>Credit Card Debt Consolidation</td>\n",
       "      <td>461xx</td>\n",
       "      <td>IN</td>\n",
       "      <td>12.30</td>\n",
       "      <td>0.0</td>\n",
       "      <td>0.0</td>\n",
       "      <td>56.0</td>\n",
       "      <td>NaN</td>\n",
       "      <td>18.0</td>\n",
       "      <td>0.0</td>\n",
       "      <td>19040.0</td>\n",
       "      <td>64.5</td>\n",
       "      <td>30.0</td>\n",
       "      <td>f</td>\n",
       "      <td>1957.24</td>\n",
       "      <td>0.0</td>\n",
       "      <td>0.0</td>\n",
       "      <td>0.0</td>\n",
       "      <td>0.0</td>\n",
       "      <td>NaN</td>\n",
       "      <td>INDIVIDUAL</td>\n",
       "      <td>NaN</td>\n",
       "      <td>113th week</td>\n",
       "      <td>0.0</td>\n",
       "      <td>0.0</td>\n",
       "      <td>350619.0</td>\n",
       "      <td>29500.0</td>\n",
       "      <td>0</td>\n",
       "    </tr>\n",
       "    <tr>\n",
       "      <th>6</th>\n",
       "      <td>8089625</td>\n",
       "      <td>5000</td>\n",
       "      <td>5000</td>\n",
       "      <td>4975.0</td>\n",
       "      <td>36 months</td>\n",
       "      <td>BAT2252229</td>\n",
       "      <td>7.90</td>\n",
       "      <td>A</td>\n",
       "      <td>A4</td>\n",
       "      <td>Teacher</td>\n",
       "      <td>5 years</td>\n",
       "      <td>RENT</td>\n",
       "      <td>75000.0</td>\n",
       "      <td>Verified</td>\n",
       "      <td>n</td>\n",
       "      <td>&gt; Funds will be used to pay off a debt. I am also a lender as well here on LC.&lt;br&gt;</td>\n",
       "      <td>debt_consolidation</td>\n",
       "      <td>PAY THEM OFF</td>\n",
       "      <td>913xx</td>\n",
       "      <td>CA</td>\n",
       "      <td>5.70</td>\n",
       "      <td>0.0</td>\n",
       "      <td>0.0</td>\n",
       "      <td>NaN</td>\n",
       "      <td>105.0</td>\n",
       "      <td>13.0</td>\n",
       "      <td>2.0</td>\n",
       "      <td>13272.0</td>\n",
       "      <td>23.9</td>\n",
       "      <td>23.0</td>\n",
       "      <td>f</td>\n",
       "      <td>578.36</td>\n",
       "      <td>0.0</td>\n",
       "      <td>0.0</td>\n",
       "      <td>0.0</td>\n",
       "      <td>0.0</td>\n",
       "      <td>NaN</td>\n",
       "      <td>INDIVIDUAL</td>\n",
       "      <td>NaN</td>\n",
       "      <td>117th week</td>\n",
       "      <td>0.0</td>\n",
       "      <td>1023.0</td>\n",
       "      <td>13272.0</td>\n",
       "      <td>55500.0</td>\n",
       "      <td>1</td>\n",
       "    </tr>\n",
       "    <tr>\n",
       "      <th>7</th>\n",
       "      <td>23043116</td>\n",
       "      <td>6000</td>\n",
       "      <td>6000</td>\n",
       "      <td>6000.0</td>\n",
       "      <td>36 months</td>\n",
       "      <td>BAT2252229</td>\n",
       "      <td>9.17</td>\n",
       "      <td>B</td>\n",
       "      <td>B1</td>\n",
       "      <td>Banker</td>\n",
       "      <td>8 years</td>\n",
       "      <td>MORTGAGE</td>\n",
       "      <td>54000.0</td>\n",
       "      <td>Verified</td>\n",
       "      <td>n</td>\n",
       "      <td>NaN</td>\n",
       "      <td>credit_card</td>\n",
       "      <td>Credit card refinancing</td>\n",
       "      <td>351xx</td>\n",
       "      <td>AL</td>\n",
       "      <td>11.63</td>\n",
       "      <td>0.0</td>\n",
       "      <td>1.0</td>\n",
       "      <td>46.0</td>\n",
       "      <td>NaN</td>\n",
       "      <td>13.0</td>\n",
       "      <td>0.0</td>\n",
       "      <td>3484.0</td>\n",
       "      <td>29.5</td>\n",
       "      <td>49.0</td>\n",
       "      <td>f</td>\n",
       "      <td>637.51</td>\n",
       "      <td>0.0</td>\n",
       "      <td>0.0</td>\n",
       "      <td>0.0</td>\n",
       "      <td>0.0</td>\n",
       "      <td>54.0</td>\n",
       "      <td>INDIVIDUAL</td>\n",
       "      <td>NaN</td>\n",
       "      <td>78th week</td>\n",
       "      <td>0.0</td>\n",
       "      <td>0.0</td>\n",
       "      <td>272579.0</td>\n",
       "      <td>11800.0</td>\n",
       "      <td>0</td>\n",
       "    </tr>\n",
       "    <tr>\n",
       "      <th>8</th>\n",
       "      <td>45900933</td>\n",
       "      <td>6000</td>\n",
       "      <td>6000</td>\n",
       "      <td>6000.0</td>\n",
       "      <td>36 months</td>\n",
       "      <td>BAT4136152</td>\n",
       "      <td>13.99</td>\n",
       "      <td>C</td>\n",
       "      <td>C4</td>\n",
       "      <td>LVN</td>\n",
       "      <td>7 years</td>\n",
       "      <td>MORTGAGE</td>\n",
       "      <td>92000.0</td>\n",
       "      <td>Verified</td>\n",
       "      <td>n</td>\n",
       "      <td>NaN</td>\n",
       "      <td>home_improvement</td>\n",
       "      <td>Home improvement</td>\n",
       "      <td>917xx</td>\n",
       "      <td>CA</td>\n",
       "      <td>30.85</td>\n",
       "      <td>0.0</td>\n",
       "      <td>0.0</td>\n",
       "      <td>77.0</td>\n",
       "      <td>NaN</td>\n",
       "      <td>16.0</td>\n",
       "      <td>0.0</td>\n",
       "      <td>47567.0</td>\n",
       "      <td>76.6</td>\n",
       "      <td>27.0</td>\n",
       "      <td>w</td>\n",
       "      <td>621.72</td>\n",
       "      <td>0.0</td>\n",
       "      <td>0.0</td>\n",
       "      <td>0.0</td>\n",
       "      <td>0.0</td>\n",
       "      <td>NaN</td>\n",
       "      <td>INDIVIDUAL</td>\n",
       "      <td>NaN</td>\n",
       "      <td>44th week</td>\n",
       "      <td>0.0</td>\n",
       "      <td>0.0</td>\n",
       "      <td>281521.0</td>\n",
       "      <td>62100.0</td>\n",
       "      <td>0</td>\n",
       "    </tr>\n",
       "    <tr>\n",
       "      <th>9</th>\n",
       "      <td>41272507</td>\n",
       "      <td>34550</td>\n",
       "      <td>34550</td>\n",
       "      <td>34550.0</td>\n",
       "      <td>60 months</td>\n",
       "      <td>BAT4694572</td>\n",
       "      <td>17.14</td>\n",
       "      <td>D</td>\n",
       "      <td>D4</td>\n",
       "      <td>Teacher</td>\n",
       "      <td>2 years</td>\n",
       "      <td>MORTGAGE</td>\n",
       "      <td>72000.0</td>\n",
       "      <td>Verified</td>\n",
       "      <td>n</td>\n",
       "      <td>NaN</td>\n",
       "      <td>debt_consolidation</td>\n",
       "      <td>Debt consolidation</td>\n",
       "      <td>427xx</td>\n",
       "      <td>KY</td>\n",
       "      <td>33.92</td>\n",
       "      <td>0.0</td>\n",
       "      <td>0.0</td>\n",
       "      <td>NaN</td>\n",
       "      <td>NaN</td>\n",
       "      <td>12.0</td>\n",
       "      <td>0.0</td>\n",
       "      <td>30040.0</td>\n",
       "      <td>90.5</td>\n",
       "      <td>30.0</td>\n",
       "      <td>w</td>\n",
       "      <td>5535.46</td>\n",
       "      <td>0.0</td>\n",
       "      <td>0.0</td>\n",
       "      <td>0.0</td>\n",
       "      <td>0.0</td>\n",
       "      <td>NaN</td>\n",
       "      <td>INDIVIDUAL</td>\n",
       "      <td>NaN</td>\n",
       "      <td>52th week</td>\n",
       "      <td>0.0</td>\n",
       "      <td>0.0</td>\n",
       "      <td>76034.0</td>\n",
       "      <td>33200.0</td>\n",
       "      <td>0</td>\n",
       "    </tr>\n",
       "  </tbody>\n",
       "</table>\n",
       "</div>"
      ],
      "text/plain": [
       "   member_id  loan_amnt  funded_amnt  funded_amnt_inv       term batch_enrolled  int_rate grade sub_grade emp_title emp_length home_ownership  annual_inc verification_status pymnt_plan                                                                                                                                                                                                                                                                                                               desc             purpose                           title zip_code addr_state    dti  delinq_2yrs  inq_last_6mths  mths_since_last_delinq  mths_since_last_record  open_acc  pub_rec  revol_bal  revol_util  total_acc initial_list_status  total_rec_int  total_rec_late_fee  recoveries  collection_recovery_fee  collections_12_mths_ex_med  mths_since_last_major_derog application_type verification_status_joint last_week_pay  acc_now_delinq  tot_coll_amt  tot_cur_bal  total_rev_hi_lim  loan_status\n",
       "0   58189336      14350        14350          14350.0  36 months     BAT2252229     19.19     E        E3     clerk    9 years            OWN     28700.0            Verified          n                                                                                                                                                                                                                                                                                                                NaN  debt_consolidation              Debt consolidation    349xx         FL  33.88          0.0             1.0                    50.0                    75.0      14.0      1.0    22515.0        73.1       28.0                   f        1173.84                 0.0         0.0                      0.0                         0.0                         74.0       INDIVIDUAL                       NaN     26th week             0.0           0.0      28699.0           30800.0            0\n",
       "1   70011223       4800         4800           4800.0  36 months     BAT1586599     10.99     B        B4   Teacher   < 1 year       MORTGAGE     65000.0            Verified          n                                                                                                                                                                                                                                                                                                                NaN    home_improvement                Home improvement    209xx         MD   3.64          0.0             1.0                     NaN                     NaN       6.0      0.0     7624.0        23.2       13.0                   w          83.95                 0.0         0.0                      0.0                         0.0                          NaN       INDIVIDUAL                       NaN      9th week             0.0           0.0       9974.0           32900.0            0\n",
       "2   70255675      10000        10000          10000.0  36 months     BAT1586599      7.26     A        A4    Driver    2 years            OWN     45000.0            Verified          n                                                                                                                                                                                                                                                                                                                NaN  debt_consolidation              Debt consolidation    447xx         OH  18.42          0.0             0.0                     NaN                     NaN       5.0      0.0    10877.0        31.2       19.0                   w          56.47                 0.0         0.0                      0.0                         0.0                          NaN       INDIVIDUAL                       NaN      9th week             0.0          65.0      38295.0           34900.0            0\n",
       "3    1893936      15000        15000          15000.0  36 months     BAT4808022     19.72     D        D5   Teacher  10+ years           RENT    105000.0            Verified          n                                                                                                                                                                                                              > My goal is to obtain a loan to pay off my high credit cards and get out of debt within 3 years.<br>  debt_consolidation              Debt consolidation    221xx         VA  14.97          0.0             2.0                    46.0                     NaN      10.0      0.0    13712.0        55.5       21.0                   f        4858.62                 0.0         0.0                      0.0                         0.0                          NaN       INDIVIDUAL                       NaN    135th week             0.0           0.0      55564.0           24700.0            0\n",
       "4    7652106      16000        16000          16000.0  36 months     BAT2833642     10.64     B        B2   Teacher  10+ years           RENT     52000.0            Verified          n                                                                                                                                                                                                                                                                                                                NaN         credit_card                            refi    900xx         CA  20.16          0.0             0.0                     NaN                     NaN      11.0      0.0    35835.0        76.2       27.0                   w        2296.41                 0.0         0.0                      0.0                         0.0                          NaN       INDIVIDUAL                       NaN     96th week             0.0           0.0      47159.0           47033.0            0\n",
       "5   10247268      15000        15000          14950.0  36 months     BAT2575549      8.90     A        A5   Teacher    2 years       MORTGAGE    120000.0            Verified          n     > We are requesting this loan to help re-organize our finances after having a tumultuous year that resulted in unexpected medical bills.  I have been in the same line of work for over five years and have been at my current company, which is very stable in the marketplace, for two and a half years.<br>  debt_consolidation  Credit Card Debt Consolidation    461xx         IN  12.30          0.0             0.0                    56.0                     NaN      18.0      0.0    19040.0        64.5       30.0                   f        1957.24                 0.0         0.0                      0.0                         0.0                          NaN       INDIVIDUAL                       NaN    113th week             0.0           0.0     350619.0           29500.0            0\n",
       "6    8089625       5000         5000           4975.0  36 months     BAT2252229      7.90     A        A4   Teacher    5 years           RENT     75000.0            Verified          n                                                                                                                                                                                                                                 > Funds will be used to pay off a debt. I am also a lender as well here on LC.<br>  debt_consolidation                    PAY THEM OFF    913xx         CA   5.70          0.0             0.0                     NaN                   105.0      13.0      2.0    13272.0        23.9       23.0                   f         578.36                 0.0         0.0                      0.0                         0.0                          NaN       INDIVIDUAL                       NaN    117th week             0.0        1023.0      13272.0           55500.0            1\n",
       "7   23043116       6000         6000           6000.0  36 months     BAT2252229      9.17     B        B1    Banker    8 years       MORTGAGE     54000.0            Verified          n                                                                                                                                                                                                                                                                                                                NaN         credit_card         Credit card refinancing    351xx         AL  11.63          0.0             1.0                    46.0                     NaN      13.0      0.0     3484.0        29.5       49.0                   f         637.51                 0.0         0.0                      0.0                         0.0                         54.0       INDIVIDUAL                       NaN     78th week             0.0           0.0     272579.0           11800.0            0\n",
       "8   45900933       6000         6000           6000.0  36 months     BAT4136152     13.99     C        C4       LVN    7 years       MORTGAGE     92000.0            Verified          n                                                                                                                                                                                                                                                                                                                NaN    home_improvement                Home improvement    917xx         CA  30.85          0.0             0.0                    77.0                     NaN      16.0      0.0    47567.0        76.6       27.0                   w         621.72                 0.0         0.0                      0.0                         0.0                          NaN       INDIVIDUAL                       NaN     44th week             0.0           0.0     281521.0           62100.0            0\n",
       "9   41272507      34550        34550          34550.0  60 months     BAT4694572     17.14     D        D4   Teacher    2 years       MORTGAGE     72000.0            Verified          n                                                                                                                                                                                                                                                                                                                NaN  debt_consolidation              Debt consolidation    427xx         KY  33.92          0.0             0.0                     NaN                     NaN      12.0      0.0    30040.0        90.5       30.0                   w        5535.46                 0.0         0.0                      0.0                         0.0                          NaN       INDIVIDUAL                       NaN     52th week             0.0           0.0      76034.0           33200.0            0"
      ]
     },
     "execution_count": 4,
     "metadata": {},
     "output_type": "execute_result"
    }
   ],
   "source": [
    "inp_dummies= pd.get_dummies(inp_file, columns=categorical, drop_first=True)\n",
    "# inp_dummies= pd.read_pickle(\"./categorical_processed.pkl\")[:100000]\n",
    "inp_dummies[:10]\n",
    "inp_df_numeric_cols=inp_dummies.select_dtypes(include=[np.number])\n",
    "y=inp_df_numeric_cols['loan_status'].values\n",
    "X=inp_df_numeric_cols.drop(['loan_status', 'member_id'], 1).values"
   ]
  },
  {
   "cell_type": "markdown",
   "metadata": {
    "slideshow": {
     "slide_type": "slide"
    }
   },
   "source": [
    "# TF IDF"
   ]
  },
  {
   "cell_type": "code",
   "execution_count": 26,
   "metadata": {
    "collapsed": false,
    "slideshow": {
     "slide_type": "subslide"
    }
   },
   "outputs": [
    {
     "data": {
      "text/plain": [
       "<1x3899 sparse matrix of type '<type 'numpy.float64'>'\n",
       "\twith 2 stored elements in Compressed Sparse Row format>"
      ]
     },
     "execution_count": 26,
     "metadata": {},
     "output_type": "execute_result"
    }
   ],
   "source": [
    "v = TfidfVectorizer()\n",
    "title_fill_na= inp_file['title'].fillna('')\n",
    "title_tf_idf = v.fit_transform(title_fill_na[:100000])\n"
   ]
  },
  {
   "cell_type": "markdown",
   "metadata": {
    "slideshow": {
     "slide_type": "slide"
    }
   },
   "source": [
    "# Test train split"
   ]
  },
  {
   "cell_type": "code",
   "execution_count": 48,
   "metadata": {
    "collapsed": false,
    "nbpresent": {
     "id": "a16cc814-8fd4-46e6-93c3-53c405fb4769"
    },
    "slideshow": {
     "slide_type": "subslide"
    }
   },
   "outputs": [],
   "source": [
    "seed = 7132\n",
    "test_size = 0.33\n",
    "X_train, X_test, y_train, y_test = train_test_split(X, y, test_size=test_size, random_state=seed)"
   ]
  },
  {
   "cell_type": "markdown",
   "metadata": {
    "slideshow": {
     "slide_type": "slide"
    }
   },
   "source": [
    "# Accuracy without tfidf features"
   ]
  },
  {
   "cell_type": "code",
   "execution_count": 49,
   "metadata": {
    "collapsed": false,
    "nbpresent": {
     "id": "5e8feebc-f21d-4970-bec7-00b79147db5f"
    },
    "slideshow": {
     "slide_type": "subslide"
    }
   },
   "outputs": [
    {
     "name": "stdout",
     "output_type": "stream",
     "text": [
      "Accuracy: 81.93%\n"
     ]
    }
   ],
   "source": [
    "\n",
    "# fit model to training data\n",
    "model = xgboost.XGBClassifier()\n",
    "model.fit(X_train, y_train)\n",
    "# make predictions for test data\n",
    "y_pred = model.predict(X_test)\n",
    "predictions = [round(value) for value in y_pred]\n",
    "# evaluate predictions\n",
    "accuracy = accuracy_score(y_test, predictions)\n",
    "print(\"Accuracy: %.2f%%\" % (accuracy * 100.0))"
   ]
  },
  {
   "cell_type": "markdown",
   "metadata": {
    "slideshow": {
     "slide_type": "slide"
    }
   },
   "source": [
    "# Accuracy with tfidf features"
   ]
  },
  {
   "cell_type": "code",
   "execution_count": 50,
   "metadata": {
    "collapsed": false,
    "slideshow": {
     "slide_type": "subslide"
    }
   },
   "outputs": [
    {
     "name": "stdout",
     "output_type": "stream",
     "text": [
      "Accuracy: 82.26%\n"
     ]
    }
   ],
   "source": [
    "X = np.hstack([title_tf_idf.toarray(), X])\n",
    "seed = 7132\n",
    "test_size = 0.33\n",
    "X_train, X_test, y_train, y_test = train_test_split(X, y, test_size=test_size, random_state=seed)\n",
    "\n",
    "# fit model to training data\n",
    "model = xgboost.XGBClassifier()\n",
    "model.fit(X_train, y_train)\n",
    "# make predictions for test data\n",
    "y_pred = model.predict(X_test)\n",
    "predictions = [round(value) for value in y_pred]\n",
    "# evaluate predictions\n",
    "accuracy = accuracy_score(y_test, predictions)\n",
    "print(\"Accuracy: %.2f%%\" % (accuracy * 100.0))"
   ]
  },
  {
   "cell_type": "code",
   "execution_count": 51,
   "metadata": {
    "collapsed": false,
    "nbpresent": {
     "id": "ea5f81ee-009c-4d8e-90bd-cd3cf1d4bdfe"
    },
    "slideshow": {
     "slide_type": "subslide"
    }
   },
   "outputs": [
    {
     "data": {
      "text/plain": [
       "0.80025090610988625"
      ]
     },
     "execution_count": 51,
     "metadata": {},
     "output_type": "execute_result"
    }
   ],
   "source": [
    "from sklearn import metrics\n",
    "y_pred = model.predict_proba(X_test)\n",
    "y_pred0= [x[1] for x in y_pred]\n",
    "fpr, tpr, thresholds = metrics.roc_curve(y_test, y_pred0)\n",
    "metrics.auc(fpr, tpr)"
   ]
  },
  {
   "cell_type": "markdown",
   "metadata": {
    "slideshow": {
     "slide_type": "slide"
    }
   },
   "source": [
    "# AUC"
   ]
  },
  {
   "cell_type": "code",
   "execution_count": 52,
   "metadata": {
    "collapsed": false,
    "nbpresent": {
     "id": "db183cd2-60f8-4383-9378-f57548a344de"
    },
    "slideshow": {
     "slide_type": "subslide"
    }
   },
   "outputs": [
    {
     "data": {
      "image/png": "[encoded data removed]",
      "text/plain": [
       "<matplotlib.figure.Figure at 0x7f92c400a490>"
      ]
     },
     "metadata": {},
     "output_type": "display_data"
    }
   ],
   "source": [
    "%matplotlib inline\n",
    "import matplotlib.pyplot as plt\n",
    "plt.figure()\n",
    "lw = 3\n",
    "plt.plot(fpr, tpr, color='darkorange',\n",
    "         lw=lw, label='ROC curve (area = %0.2f)' % metrics.auc(fpr, tpr))\n",
    "plt.plot([0, 1], [0, 1], color='navy', lw=lw, linestyle='--')\n",
    "plt.xlim([0.0, 1.0])\n",
    "plt.ylim([0.0, 1.05])\n",
    "plt.xlabel('False Positive Rate')\n",
    "plt.ylabel('True Positive Rate')\n",
    "plt.title('Receiver operating characteristic example')\n",
    "plt.legend(loc=\"lower right\")\n",
    "plt.show()"
   ]
  }
 ],
 "metadata": {
  "anaconda-cloud": {},
  "celltoolbar": "Slideshow",
  "kernelspec": {
   "display_name": "Python [conda env:py2k]",
   "language": "python",
   "name": "conda-env-py2k-py"
  },
  "language_info": {
   "codemirror_mode": {
    "name": "ipython",
    "version": 2
   },
   "file_extension": ".py",
   "mimetype": "text/x-python",
   "name": "python",
   "nbconvert_exporter": "python",
   "pygments_lexer": "ipython2",
   "version": "2.7.13"
  },
  "nbpresent": {
   "slides": {
    "064c4d64-a92d-4cd9-a0af-0b20d8ec4309": {
     "id": "064c4d64-a92d-4cd9-a0af-0b20d8ec4309",
     "prev": "a6397782-9907-49e2-860f-4dbff59e5b7c",
     "regions": {
      "b41610bf-d07d-410e-869b-f628863c554c": {
       "attrs": {
        "height": 0.8,
        "width": 0.8,
        "x": 0.1,
        "y": 0.1
       },
       "content": {
        "cell": "9e6f401d-cfdc-4c0c-9a45-912ccefca87c",
        "part": "source"
       },
       "id": "b41610bf-d07d-410e-869b-f628863c554c"
      }
     }
    },
    "09ab54c9-a8a9-407e-939e-98ecbc151bee": {
     "id": "09ab54c9-a8a9-407e-939e-98ecbc151bee",
     "prev": "920e5ddd-da4d-4e54-bd80-7edff81cd25d",
     "regions": {
      "7627e4a3-09e6-4f08-bea9-413a877b6539": {
       "attrs": {
        "height": 0.8,
        "width": 0.8,
        "x": 0.1,
        "y": 0.1
       },
       "content": {
        "cell": "35d0f830-4076-452e-9af8-efad32c8edd4",
        "part": "whole"
       },
       "id": "7627e4a3-09e6-4f08-bea9-413a877b6539"
      }
     }
    },
    "0d7376b8-69d6-42b8-a71c-9fffe1595917": {
     "id": "0d7376b8-69d6-42b8-a71c-9fffe1595917",
     "prev": "122ea341-4eb1-4b77-8199-6fe0865a9571",
     "regions": {
      "8e84f815-0355-4638-96d9-ac5b9bca9817": {
       "attrs": {
        "height": 0.8,
        "width": 0.8,
        "x": 0.1,
        "y": 0.1
       },
       "content": {
        "cell": "3c4d4f2f-0743-44a8-8f98-1683ccc822f9",
        "part": "whole"
       },
       "id": "8e84f815-0355-4638-96d9-ac5b9bca9817"
      }
     }
    },
    "122ea341-4eb1-4b77-8199-6fe0865a9571": {
     "id": "122ea341-4eb1-4b77-8199-6fe0865a9571",
     "prev": "583698e3-495b-4def-90e8-e2be3a042688",
     "regions": {
      "f7b53e2f-da2e-486a-94be-0576ee6ff746": {
       "attrs": {
        "height": 0.8,
        "width": 0.8,
        "x": 0.1,
        "y": 0.1
       },
       "content": {
        "cell": "0c09d484-74b9-4ecd-a3cc-85f40f38ee34",
        "part": "whole"
       },
       "id": "f7b53e2f-da2e-486a-94be-0576ee6ff746"
      }
     }
    },
    "279f26e3-9853-43fb-ba74-89a733e04dfe": {
     "id": "279f26e3-9853-43fb-ba74-89a733e04dfe",
     "prev": "2a85720f-a784-4f83-be88-cba33443574a",
     "regions": {
      "bf0fad31-0441-4944-8c1f-ea6e644bfb25": {
       "attrs": {
        "height": 0.8,
        "width": 0.8,
        "x": 0.1,
        "y": 0.1
       },
       "content": {
        "cell": "5e8feebc-f21d-4970-bec7-00b79147db5f",
        "part": "whole"
       },
       "id": "bf0fad31-0441-4944-8c1f-ea6e644bfb25"
      }
     }
    },
    "2a85720f-a784-4f83-be88-cba33443574a": {
     "id": "2a85720f-a784-4f83-be88-cba33443574a",
     "prev": "064c4d64-a92d-4cd9-a0af-0b20d8ec4309",
     "regions": {
      "39780d26-36bc-4371-96e4-1fa2675f15ee": {
       "attrs": {
        "height": 0.8,
        "width": 0.8,
        "x": 0.1,
        "y": 0.1
       },
       "content": {
        "cell": "a16cc814-8fd4-46e6-93c3-53c405fb4769",
        "part": "whole"
       },
       "id": "39780d26-36bc-4371-96e4-1fa2675f15ee"
      }
     }
    },
    "385bd7a6-4b91-4263-ad09-99dde8f71833": {
     "id": "385bd7a6-4b91-4263-ad09-99dde8f71833",
     "prev": "279f26e3-9853-43fb-ba74-89a733e04dfe",
     "regions": {
      "8af7cea3-ef55-4875-89a8-f93141827627": {
       "attrs": {
        "height": 0.8,
        "width": 0.8,
        "x": 0.1,
        "y": 0.1
       },
       "content": {
        "cell": "5d7ed2a6-f083-4e22-bf9f-5e3ce5e1edc5",
        "part": "whole"
       },
       "id": "8af7cea3-ef55-4875-89a8-f93141827627"
      }
     }
    },
    "43b6c998-b352-4e75-a0d2-53cdafc3c39b": {
     "id": "43b6c998-b352-4e75-a0d2-53cdafc3c39b",
     "prev": "d5054bfd-9e86-4e75-a7fd-f154911e6ea0",
     "regions": {
      "cd31162b-ea31-4dda-80ae-e6da0259dd27": {
       "attrs": {
        "height": 0.8,
        "width": 0.8,
        "x": 0.1,
        "y": 0.1
       },
       "content": {
        "cell": "69f2b61d-b44c-47d7-b034-e0ddc967efb3",
        "part": "whole"
       },
       "id": "cd31162b-ea31-4dda-80ae-e6da0259dd27"
      }
     }
    },
    "4efb9b83-5c05-4db3-aa4d-0511c178d9c0": {
     "id": "4efb9b83-5c05-4db3-aa4d-0511c178d9c0",
     "prev": "fdbb1fb7-767a-4db7-8290-57fce0d51f5f",
     "regions": {
      "94e11484-5ba4-4138-b8dd-4060d46aef49": {
       "attrs": {
        "height": 0.8,
        "width": 0.8,
        "x": 0.1,
        "y": 0.1
       },
       "content": {
        "cell": "fe7adc58-56f5-4383-9e42-9497480ea9a1",
        "part": "whole"
       },
       "id": "94e11484-5ba4-4138-b8dd-4060d46aef49"
      }
     }
    },
    "583698e3-495b-4def-90e8-e2be3a042688": {
     "id": "583698e3-495b-4def-90e8-e2be3a042688",
     "prev": "09ab54c9-a8a9-407e-939e-98ecbc151bee",
     "regions": {
      "cb3801ad-f4d9-4f4a-8ace-0e7020d52e38": {
       "attrs": {
        "height": 0.8,
        "width": 0.8,
        "x": 0.1,
        "y": 0.1
       },
       "content": {
        "cell": "b9b2256b-8932-45ab-a7e6-6ab0dc067ed6",
        "part": "whole"
       },
       "id": "cb3801ad-f4d9-4f4a-8ace-0e7020d52e38"
      }
     }
    },
    "5d5ec832-9e0a-45ce-9172-dabe2b57f6c5": {
     "id": "5d5ec832-9e0a-45ce-9172-dabe2b57f6c5",
     "prev": "c4d088b2-09cb-4b0d-b654-2af727ea670b",
     "regions": {
      "2f3b4347-6676-4f73-a9c6-aa77992bf488": {
       "attrs": {
        "height": 0.8,
        "width": 0.8,
        "x": 0.1,
        "y": 0.1
       },
       "content": {
        "cell": "4a2e89be-9c26-4575-8e0a-4d97200b56cc",
        "part": "whole"
       },
       "id": "2f3b4347-6676-4f73-a9c6-aa77992bf488"
      }
     }
    },
    "75ec3702-a61c-418d-ae12-6dee87861682": {
     "id": "75ec3702-a61c-418d-ae12-6dee87861682",
     "prev": "d0fbc374-0aff-471b-80e0-d38eace57121",
     "regions": {
      "c54ca182-b30e-4511-b566-dfa268b20e95": {
       "attrs": {
        "height": 0.8,
        "width": 0.8,
        "x": 0.1,
        "y": 0.1
       },
       "content": {
        "cell": "04fc5f14-71cb-4be4-9764-58cd2aa6a694",
        "part": "whole"
       },
       "id": "c54ca182-b30e-4511-b566-dfa268b20e95"
      }
     }
    },
    "7c2c270e-3bb7-4b91-aa9a-625d63b3ef47": {
     "id": "7c2c270e-3bb7-4b91-aa9a-625d63b3ef47",
     "prev": "0d7376b8-69d6-42b8-a71c-9fffe1595917",
     "regions": {
      "dfb56d57-a2e3-4ef8-9e02-3377ae6403d2": {
       "attrs": {
        "height": 0.8,
        "width": 0.8,
        "x": 0.1,
        "y": 0.1
       },
       "content": {
        "cell": "659a38e4-3f21-44d2-a38b-0cb50a58b41d",
        "part": "whole"
       },
       "id": "dfb56d57-a2e3-4ef8-9e02-3377ae6403d2"
      }
     }
    },
    "86824745-d1ef-4351-8b24-3c7366b4dd8b": {
     "id": "86824745-d1ef-4351-8b24-3c7366b4dd8b",
     "prev": "5d5ec832-9e0a-45ce-9172-dabe2b57f6c5",
     "regions": {
      "f5f02109-dfca-4b25-8380-28d022960c9a": {
       "attrs": {
        "height": 0.8,
        "width": 0.8,
        "x": 0.1,
        "y": 0.1
       },
       "content": {
        "cell": "d232a5fd-4ce0-421a-b253-1b4c883e6436",
        "part": "whole"
       },
       "id": "f5f02109-dfca-4b25-8380-28d022960c9a"
      }
     }
    },
    "8f8782ca-823d-411f-8d05-b1687f7334e3": {
     "id": "8f8782ca-823d-411f-8d05-b1687f7334e3",
     "prev": "4efb9b83-5c05-4db3-aa4d-0511c178d9c0",
     "regions": {
      "6627202a-ccaf-431e-bd3d-04237b5d0b51": {
       "attrs": {
        "height": 0.8,
        "width": 0.8,
        "x": 0.1,
        "y": 0.1
       },
       "content": {
        "cell": "adca4b60-ddab-4525-b022-299f507ad627",
        "part": "whole"
       },
       "id": "6627202a-ccaf-431e-bd3d-04237b5d0b51"
      }
     }
    },
    "920e5ddd-da4d-4e54-bd80-7edff81cd25d": {
     "id": "920e5ddd-da4d-4e54-bd80-7edff81cd25d",
     "prev": "ad3b80cf-906f-4bde-a3e9-f69846671bdf",
     "regions": {
      "d5914f37-f173-47b6-8902-16175bfde26f": {
       "attrs": {
        "height": 0.8,
        "width": 0.8,
        "x": 0.1,
        "y": 0.1
       },
       "content": {
        "cell": "958f789b-b578-49e9-bc2f-0df90c7921aa",
        "part": "whole"
       },
       "id": "d5914f37-f173-47b6-8902-16175bfde26f"
      }
     }
    },
    "96bf89ee-468c-4bc5-a390-0a5a58cd5126": {
     "id": "96bf89ee-468c-4bc5-a390-0a5a58cd5126",
     "prev": "b3e7c777-beac-4e11-b03f-b0c110da0e4d",
     "regions": {
      "8ea98b77-a5ec-43b8-a50f-3008b472c6d6": {
       "attrs": {
        "height": 0.8,
        "width": 0.8,
        "x": 0.1,
        "y": 0.1
       },
       "content": {
        "cell": "47d936c0-449e-4127-af0e-d406d1765f21",
        "part": "whole"
       },
       "id": "8ea98b77-a5ec-43b8-a50f-3008b472c6d6"
      }
     }
    },
    "a6397782-9907-49e2-860f-4dbff59e5b7c": {
     "id": "a6397782-9907-49e2-860f-4dbff59e5b7c",
     "prev": "cb3de64b-6099-4648-af72-9cf9b81b6f9c",
     "regions": {
      "582a1204-ff85-4044-a90c-bd32389ad819": {
       "attrs": {
        "height": 0.8,
        "width": 0.8,
        "x": 0.1,
        "y": 0.1
       },
       "content": {
        "cell": "8cd7b591-e60f-4485-abcb-71624d2c2e05",
        "part": "whole"
       },
       "id": "582a1204-ff85-4044-a90c-bd32389ad819"
      }
     }
    },
    "ad3b80cf-906f-4bde-a3e9-f69846671bdf": {
     "id": "ad3b80cf-906f-4bde-a3e9-f69846671bdf",
     "prev": "43b6c998-b352-4e75-a0d2-53cdafc3c39b",
     "regions": {
      "d68efb64-d316-4f3d-95cf-60634ce2f136": {
       "attrs": {
        "height": 0.8,
        "width": 0.8,
        "x": 0.1,
        "y": 0.1
       },
       "content": {
        "cell": "5ecd0ea4-b684-441d-b079-98ed094951cb",
        "part": "whole"
       },
       "id": "d68efb64-d316-4f3d-95cf-60634ce2f136"
      }
     }
    },
    "b3e7c777-beac-4e11-b03f-b0c110da0e4d": {
     "id": "b3e7c777-beac-4e11-b03f-b0c110da0e4d",
     "prev": null,
     "regions": {
      "2c43ffe5-f9e5-4eb8-83c9-5215fa9a1ba8": {
       "attrs": {
        "height": 0.8,
        "width": 0.8,
        "x": 0.1,
        "y": 0.1
       },
       "content": {
        "cell": "4ef13624-9896-4232-9512-feb98e9c523d",
        "part": "whole"
       },
       "id": "2c43ffe5-f9e5-4eb8-83c9-5215fa9a1ba8"
      }
     }
    },
    "bf45ea71-954b-42d7-8aa6-cd26386b99ca": {
     "id": "bf45ea71-954b-42d7-8aa6-cd26386b99ca",
     "prev": "f89fac95-7694-4ae0-9ac0-1c7cdc0d373b",
     "regions": {
      "5efd5792-dde1-4f0e-8839-456c58b9b2ba": {
       "attrs": {
        "height": 0.8,
        "width": 0.8,
        "x": 0.1,
        "y": 0.1
       },
       "content": {
        "cell": "db183cd2-60f8-4383-9378-f57548a344de",
        "part": "whole"
       },
       "id": "5efd5792-dde1-4f0e-8839-456c58b9b2ba"
      }
     }
    },
    "c4d088b2-09cb-4b0d-b654-2af727ea670b": {
     "id": "c4d088b2-09cb-4b0d-b654-2af727ea670b",
     "prev": "7c2c270e-3bb7-4b91-aa9a-625d63b3ef47",
     "regions": {
      "ead568fb-dbec-43fd-af47-4ba49e4e5c1f": {
       "attrs": {
        "height": 0.8,
        "width": 0.8,
        "x": 0.1,
        "y": 0.1
       },
       "content": {
        "cell": "c33c8619-f40b-4b81-b61f-845f568a51b8",
        "part": "whole"
       },
       "id": "ead568fb-dbec-43fd-af47-4ba49e4e5c1f"
      }
     }
    },
    "cb3de64b-6099-4648-af72-9cf9b81b6f9c": {
     "id": "cb3de64b-6099-4648-af72-9cf9b81b6f9c",
     "prev": "86824745-d1ef-4351-8b24-3c7366b4dd8b",
     "regions": {
      "c719c5e0-6a09-4310-8360-4189ba79f1c9": {
       "attrs": {
        "height": 0.8,
        "width": 0.8,
        "x": 0.1,
        "y": 0.1
       },
       "content": {
        "cell": "3bbf29fe-e32a-4c38-9833-5bc12be3955e",
        "part": "whole"
       },
       "id": "c719c5e0-6a09-4310-8360-4189ba79f1c9"
      }
     }
    },
    "d0fbc374-0aff-471b-80e0-d38eace57121": {
     "id": "d0fbc374-0aff-471b-80e0-d38eace57121",
     "prev": "bf45ea71-954b-42d7-8aa6-cd26386b99ca",
     "regions": {
      "9f07684b-bb74-40de-99ab-5040d943b496": {
       "attrs": {
        "height": 0.8,
        "width": 0.8,
        "x": 0.1,
        "y": 0.1
       },
       "content": {
        "cell": "cab10956-451f-45a4-ac17-67fd5d2fa2a1",
        "part": "whole"
       },
       "id": "9f07684b-bb74-40de-99ab-5040d943b496"
      }
     }
    },
    "d5054bfd-9e86-4e75-a7fd-f154911e6ea0": {
     "id": "d5054bfd-9e86-4e75-a7fd-f154911e6ea0",
     "prev": "96bf89ee-468c-4bc5-a390-0a5a58cd5126",
     "regions": {
      "0bdbb52b-1167-477e-a706-6f14dc166658": {
       "attrs": {
        "height": 0.8,
        "width": 0.8,
        "x": 0.1,
        "y": 0.1
       },
       "content": {
        "cell": "9e6f401d-cfdc-4c0c-9a45-912ccefca87c",
        "part": "whole"
       },
       "id": "0bdbb52b-1167-477e-a706-6f14dc166658"
      }
     }
    },
    "f89fac95-7694-4ae0-9ac0-1c7cdc0d373b": {
     "id": "f89fac95-7694-4ae0-9ac0-1c7cdc0d373b",
     "prev": "385bd7a6-4b91-4263-ad09-99dde8f71833",
     "regions": {
      "fbd3a882-a1ed-49e4-90fc-3f35ac446c97": {
       "attrs": {
        "height": 0.8,
        "width": 0.8,
        "x": 0.1,
        "y": 0.1
       },
       "content": {
        "cell": "ea5f81ee-009c-4d8e-90bd-cd3cf1d4bdfe",
        "part": "whole"
       },
       "id": "fbd3a882-a1ed-49e4-90fc-3f35ac446c97"
      }
     }
    },
    "fa86df81-163f-4c16-ba7e-ed5cde7d4b36": {
     "id": "fa86df81-163f-4c16-ba7e-ed5cde7d4b36",
     "prev": "8f8782ca-823d-411f-8d05-b1687f7334e3",
     "regions": {
      "40b187a8-1726-4bb7-9d87-595d965d6131": {
       "attrs": {
        "height": 0.8,
        "width": 0.8,
        "x": 0.1,
        "y": 0.1
       },
       "content": {
        "cell": "c597da04-e952-4c4a-88e2-10a961f18fdd",
        "part": "whole"
       },
       "id": "40b187a8-1726-4bb7-9d87-595d965d6131"
      }
     }
    },
    "fdbb1fb7-767a-4db7-8290-57fce0d51f5f": {
     "id": "fdbb1fb7-767a-4db7-8290-57fce0d51f5f",
     "prev": "75ec3702-a61c-418d-ae12-6dee87861682",
     "regions": {
      "16e90bdf-325d-420c-8ee0-bdd1eeabd396": {
       "attrs": {
        "height": 0.8,
        "width": 0.8,
        "x": 0.1,
        "y": 0.1
       },
       "content": {
        "cell": "196415cf-368c-4f5a-9f4d-f09dc3dc5b66",
        "part": "whole"
       },
       "id": "16e90bdf-325d-420c-8ee0-bdd1eeabd396"
      }
     }
    }
   },
   "themes": {}
  }
 },
 "nbformat": 4,
 "nbformat_minor": 2
}
